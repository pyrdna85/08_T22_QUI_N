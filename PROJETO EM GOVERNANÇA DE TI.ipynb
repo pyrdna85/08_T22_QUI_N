{
  "nbformat": 4,
  "nbformat_minor": 0,
  "metadata": {
    "colab": {
      "name": "Untitled1.ipynb",
      "provenance": [],
      "authorship_tag": "ABX9TyOLHxdYGm/xN+7JFU+6DKRF",
      "include_colab_link": true
    },
    "kernelspec": {
      "name": "python3",
      "display_name": "Python 3"
    },
    "language_info": {
      "name": "python"
    }
  },
  "cells": [
    {
      "cell_type": "markdown",
      "metadata": {
        "id": "view-in-github",
        "colab_type": "text"
      },
      "source": [
        "<a href=\"https://colab.research.google.com/github/pyrdna85/08_T22_QUI_N/blob/main/PROJETO%20EM%20GOVERNAN%C3%87A%20DE%20TI.ipynb\" target=\"_parent\"><img src=\"https://colab.research.google.com/assets/colab-badge.svg\" alt=\"Open In Colab\"/></a>"
      ]
    },
    {
      "cell_type": "code",
      "metadata": {
        "id": "NqGMdZnulRr1"
      },
      "source": [
        ""
      ],
      "execution_count": null,
      "outputs": []
    },
    {
      "cell_type": "markdown",
      "metadata": {
        "id": "yH33xTz-lSfr"
      },
      "source": [
        "PROJETO EM GOVERNANÇA DE TI"
      ]
    },
    {
      "cell_type": "markdown",
      "metadata": {
        "id": "vm_eYqFCla5y"
      },
      "source": [
        "Aluno: Rodrigo Das Neves Andrade Assumpção\n",
        "\n",
        "RA: 4201409470"
      ]
    },
    {
      "cell_type": "markdown",
      "metadata": {
        "id": "YIJbSetKlpVA"
      },
      "source": [
        ""
      ]
    }
  ]
}